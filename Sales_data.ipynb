{
 "cells": [
  {
   "cell_type": "markdown",
   "id": "77a6fc07-8e24-483e-944b-93b361b1ecb8",
   "metadata": {},
   "source": [
    "# Create a connection and cursor"
   ]
  },
  {
   "cell_type": "markdown",
   "id": "2c7f416b-e7de-40b1-8dbd-32358b3affed",
   "metadata": {},
   "source": [
    "# Insert some sample data"
   ]
  },
  {
   "cell_type": "code",
   "execution_count": 6,
   "id": "ccb32ab5-e9a3-4b6d-a32f-2f4a3e14acb4",
   "metadata": {},
   "outputs": [],
   "source": [
    "import sqlite3\n",
    "\n",
    "\n",
    "conn = sqlite3.connect('sales_data.db')\n",
    "cur = conn.cursor()\n",
    "\n",
    "# Create table\n",
    "cur.execute('''\n",
    "    CREATE TABLE IF NOT EXISTS sales (\n",
    "        id INTEGER PRIMARY KEY,\n",
    "        product TEXT,\n",
    "        quantity INTEGER,\n",
    "        price REAL\n",
    "    )\n",
    "''')\n",
    "\n",
    "#Insert some sample data\n",
    "sales_data = [\n",
    "    ('Apples', 10, 2.5),\n",
    "    ('Bananas', 5, 1.0),\n",
    "    ('Oranges', 8, 1.75),\n",
    "    ('Apples', 15, 2.5),\n",
    "    ('Bananas', 10, 1.0),\n",
    "    ('Oranges', 5, 1.75)\n",
    "]\n",
    "\n",
    "cur.executemany(\"INSERT INTO sales (product, quantity, price) VALUES (?, ?, ?)\", sales_data)\n",
    "conn.commit()\n",
    "conn.close()\n"
   ]
  },
  {
   "cell_type": "markdown",
   "id": "34cdc66b-dfde-44ce-873d-cb430db02ee0",
   "metadata": {},
   "source": [
    "# Connect to the database"
   ]
  },
  {
   "cell_type": "markdown",
   "id": "9cc7b6ed-0e14-4e1f-b847-e3a3e38849e3",
   "metadata": {},
   "source": [
    "# SQL Query to summarize data"
   ]
  },
  {
   "cell_type": "markdown",
   "id": "fda250f0-7f54-4f2b-b365-3c6c16f64678",
   "metadata": {},
   "source": [
    "# Run the query and load into pandas"
   ]
  },
  {
   "cell_type": "markdown",
   "id": "b49f1f8b-b7cd-47e0-a265-2dbe5089257e",
   "metadata": {},
   "source": [
    "# Close the connection"
   ]
  },
  {
   "cell_type": "code",
   "execution_count": 7,
   "id": "f8a35521-22a9-4a13-a72f-8323bad532aa",
   "metadata": {},
   "outputs": [],
   "source": [
    "import sqlite3\n",
    "import pandas as pd\n",
    "import matplotlib.pyplot as plt\n",
    "\n",
    "#Connect to the database\n",
    "conn = sqlite3.connect(\"sales_data.db\")\n",
    "\n",
    "#SQL Query to summarize data\n",
    "query = \"\"\"\n",
    "SELECT \n",
    "    product, \n",
    "    SUM(quantity) AS total_qty,\n",
    "    SUM(quantity * price) AS revenue\n",
    "FROM sales\n",
    "GROUP BY product\n",
    "\"\"\"\n",
    "\n",
    "# Run the query and load into pandas\n",
    "df = pd.read_sql_query(query, conn)\n",
    "\n",
    "# Close the connection\n",
    "conn.close()\n"
   ]
  },
  {
   "cell_type": "markdown",
   "id": "835ac94e-f9e4-44d9-a990-cbc1ce6262b0",
   "metadata": {},
   "source": [
    "# Print the summary"
   ]
  },
  {
   "cell_type": "markdown",
   "id": "6d18c40b-8f6c-4b96-9b56-339e00b3cbcd",
   "metadata": {},
   "source": [
    "# Plot bar chart of revenue by product"
   ]
  },
  {
   "cell_type": "code",
   "execution_count": 10,
   "id": "c4c13793-b1a9-47b3-94c0-787e28172703",
   "metadata": {},
   "outputs": [
    {
     "name": "stdout",
     "output_type": "stream",
     "text": [
      "   product  total_qty  revenue\n",
      "0   Apples        100    250.0\n",
      "1  Bananas         60     60.0\n",
      "2  Oranges         52     91.0\n"
     ]
    },
    {
     "data": {
      "image/png": "[encoded data removed]",
      "text/plain": [
       "<Figure size 640x480 with 1 Axes>"
      ]
     },
     "metadata": {},
     "output_type": "display_data"
    }
   ],
   "source": [
    "# Print the summary\n",
    "print(df)\n",
    "\n",
    "# Plot bar chart of revenue by product\n",
    "import matplotlib.pyplot as plt\n",
    "\n",
    "plt.bar(df['product'], df['revenue'], color=['blue', 'orange', 'green'])\n",
    "plt.xlabel('Product')\n",
    "plt.ylabel('Revenue')\n",
    "plt.title('Revenue by Product')\n",
    "plt.show()\n"
   ]
  },
  {
   "cell_type": "code",
   "execution_count": 11,
   "id": "0545dd40-fdc8-480a-905d-b253d26c2da1",
   "metadata": {},
   "outputs": [
    {
     "data": {
      "text/plain": [
       "<Figure size 640x480 with 0 Axes>"
      ]
     },
     "metadata": {},
     "output_type": "display_data"
    }
   ],
   "source": [
    "plt.savefig(\"sales_chart.png\")\n"
   ]
  }
 ],
 "metadata": {
  "kernelspec": {
   "display_name": "Python 3 (ipykernel)",
   "language": "python",
   "name": "python3"
  },
  "language_info": {
   "codemirror_mode": {
    "name": "ipython",
    "version": 3
   },
   "file_extension": ".py",
   "mimetype": "text/x-python",
   "name": "python",
   "nbconvert_exporter": "python",
   "pygments_lexer": "ipython3",
   "version": "3.12.7"
  }
 },
 "nbformat": 4,
 "nbformat_minor": 5
}
